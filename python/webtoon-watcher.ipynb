{
 "cells": [
  {
   "cell_type": "code",
   "execution_count": 16,
   "metadata": {},
   "outputs": [
    {
     "name": "stdout",
     "output_type": "stream",
     "text": [
      "새로운 에피소드! : 26화 건달 4화\n",
      "\n",
      "done.\n"
     ]
    }
   ],
   "source": [
    "import requests\n",
    "from datetime import datetime \n",
    "from bs4 import BeautifulSoup\n",
    "import pandas\n",
    "\n",
    "def getData() :\n",
    "    url = 'https://comic.naver.com/webtoon/list.nhn?titleId=737018&weekday=sat'\n",
    "    response =requests.get(url)\n",
    "\n",
    "    html = BeautifulSoup(response.content, 'html.parser')\n",
    "    \n",
    "    titles = html.select('.title')\n",
    "    \n",
    "    try:\n",
    "        file = open('list.txt', 'r')\n",
    "        lines = file.readlines()\n",
    "        file.close()\n",
    "    except: \n",
    "        lines = []\n",
    "    \n",
    "    # print(lines)\n",
    "    file = open('list.txt', 'a')\n",
    "    for title in titles :\n",
    "        title_text = title.get_text().strip() + '\\n'\n",
    "        \n",
    "        try :\n",
    "            lines.index(title_text)\n",
    "        except :\n",
    "\n",
    "            file.write(title_text)\n",
    "            print('새로운 에피소드! : ' + title_text)\n",
    "\n",
    "    print('done.')\n",
    "    file.close()\n",
    "        \n",
    "getData()"
   ]
  },
  {
   "cell_type": "code",
   "execution_count": null,
   "metadata": {},
   "outputs": [],
   "source": []
  },
  {
   "cell_type": "code",
   "execution_count": null,
   "metadata": {},
   "outputs": [],
   "source": []
  }
 ],
 "metadata": {
  "kernelspec": {
   "display_name": "Python 3",
   "language": "python",
   "name": "python3"
  },
  "language_info": {
   "codemirror_mode": {
    "name": "ipython",
    "version": 3
   },
   "file_extension": ".py",
   "mimetype": "text/x-python",
   "name": "python",
   "nbconvert_exporter": "python",
   "pygments_lexer": "ipython3",
   "version": "3.7.6"
  }
 },
 "nbformat": 4,
 "nbformat_minor": 4
}
