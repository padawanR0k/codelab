{
 "cells": [
  {
   "cell_type": "code",
   "execution_count": 22,
   "metadata": {},
   "outputs": [
    {
     "name": "stdout",
     "output_type": "stream",
     "text": [
      "개봉 D-3 | 이웃의 아내\n",
      "개봉 D-3 | 지구 침공: 컨테이젼\n",
      "개봉 D-4 | 초미의 관심사\n",
      "개봉 D-4 | 아홉 스님\n",
      "개봉 D-4 | 미스비헤이비어\n",
      "개봉 D-4 | 언더워터\n",
      "개봉 D-4 | 안녕, 미누\n",
      "개봉 D-4 | 조금씩, 천천히 안녕\n",
      "개봉 D-4 | 그집\n",
      "개봉 D-4 | 싸커 퀸즈\n",
      "done.\n"
     ]
    }
   ],
   "source": [
    "import requests\n",
    "from datetime import datetime \n",
    "from bs4 import BeautifulSoup\n",
    "import pandas\n",
    "\n",
    "def getData() :\n",
    "    response =requests.get('https://search.naver.com/search.naver?where=nexearch&sm=tab_etc&query=%EA%B0%9C%EB%B4%89%EC%98%88%EC%A0%95%EC%98%81%ED%99%94')\n",
    "\n",
    "    html = BeautifulSoup(response.content, 'html.parser')\n",
    "\n",
    "    list_  = html.select( '.thumb_list li dl  dt a')\n",
    "    ddays  = html.select( '.thumb_list li dl  .open_date')\n",
    "    \n",
    "    for index, title in enumerate(list_):\n",
    "        print(ddays[index].get_text() + ' | '  + title.get_text())\n",
    "        \n",
    "    title_texts = []\n",
    "    day_texts = []\n",
    "    \n",
    "\n",
    "    \n",
    "    for title in list_:\n",
    "        title_texts.append(title.get_text().strip())\n",
    "    for day in ddays:\n",
    "        day_texts.append(day.get_text().strip())\n",
    "        \n",
    "    data = pandas.DataFrame()\n",
    "    data['평점'] = title_texts;\n",
    "    data['개봉일'] = day_texts;\n",
    "    \n",
    "    data.to_excel('hall-of-fame.xls')\n",
    "    print('done.')\n",
    "getData()\n",
    "\n"
   ]
  },
  {
   "cell_type": "code",
   "execution_count": null,
   "metadata": {},
   "outputs": [],
   "source": []
  }
 ],
 "metadata": {
  "kernelspec": {
   "display_name": "Python 3",
   "language": "python",
   "name": "python3"
  },
  "language_info": {
   "codemirror_mode": {
    "name": "ipython",
    "version": 3
   },
   "file_extension": ".py",
   "mimetype": "text/x-python",
   "name": "python",
   "nbconvert_exporter": "python",
   "pygments_lexer": "ipython3",
   "version": "3.7.6"
  }
 },
 "nbformat": 4,
 "nbformat_minor": 4
}
