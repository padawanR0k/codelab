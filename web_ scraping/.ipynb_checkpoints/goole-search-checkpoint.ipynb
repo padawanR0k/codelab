{
 "cells": [
  {
   "cell_type": "code",
   "execution_count": 10,
   "metadata": {},
   "outputs": [
    {
     "name": "stdout",
     "output_type": "stream",
     "text": [
      "검색어를 입력하세요모두의셔틀\n",
      "https://www.modooshuttle.com/\n",
      "모두의셔틀\n",
      "#\n",
      "/search?q=+site:modooshuttle.com+%EB%AA%A8%EB%91%90%EC%9D%98%EC%85%94%ED%8B%80&sa=X&ved=2ahUKEwjr0OSC1dvpAhVR62EKHfdUBBEQrAN6BAgIEA8\n",
      "https://www.rocketpunch.com/companies/mshuttle\n",
      "모두의셔틀 - 로켓펀치\n",
      "#\n",
      "http://economy.chosun.com/client/news/view.php?boardName=C05&t_num=13608482\n",
      "모두의셔틀 - 이코노미조선\n",
      "#\n",
      "http://m.blog.naver.com/gongvely8/221249540496\n",
      "모두의 셔틀 1년 10개월동안 내돈주고 이용한 후기! (2만원 할인 ...\n",
      "#\n",
      "https://benefits.fastfive.co.kr/product/shuttle-modoo/\n",
      "모두의 셔틀 – FASTFIVE\n",
      "#\n",
      "https://www.bloter.net/archives/379908\n",
      "'공유버스' 모두의셔틀, 종로・상암도 달린다 | Bloter.net\n",
      "#\n",
      "https://thevc.kr/modooshuttle\n",
      "모두의셔틀 - 4건의 투자 - THE VC\n",
      "#\n",
      "https://signal.sedaily.com/NewsView/1VMW2QX4FP/GX16\n",
      "공유버스 서비스 뜬다…'모두의 셔틀' 22억 시리즈A 투자 유치\n",
      "#\n"
     ]
    }
   ],
   "source": [
    "from selenium import webdriver\n",
    "import time\n",
    "from bs4 import BeautifulSoup\n",
    "\n",
    "def getResult() :\n",
    "    keyword = input('검색어를 입력하세요')\n",
    "    browser = webdriver.Chrome('./chromedriver_mac')\n",
    "    browser.get('https://www.google.com/search?q=' +  keyword )\n",
    "    html = BeautifulSoup(browser.page_source, 'html.parser')\n",
    "    links = html.select('#search div > a')\n",
    "    for link in links:\n",
    "        print(link['href'])\n",
    "        if (link.find('h3')) :\n",
    "            print(link.find('h3').get_text())\n",
    "            \n",
    "    \n",
    "\n",
    "getResult()"
   ]
  },
  {
   "cell_type": "code",
   "execution_count": null,
   "metadata": {},
   "outputs": [],
   "source": []
  }
 ],
 "metadata": {
  "kernelspec": {
   "display_name": "Python 3",
   "language": "python",
   "name": "python3"
  },
  "language_info": {
   "codemirror_mode": {
    "name": "ipython",
    "version": 3
   },
   "file_extension": ".py",
   "mimetype": "text/x-python",
   "name": "python",
   "nbconvert_exporter": "python",
   "pygments_lexer": "ipython3",
   "version": "3.7.6"
  }
 },
 "nbformat": 4,
 "nbformat_minor": 4
}
