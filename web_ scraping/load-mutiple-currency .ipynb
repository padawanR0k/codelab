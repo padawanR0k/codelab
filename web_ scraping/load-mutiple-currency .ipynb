{
 "cells": [
  {
   "cell_type": "code",
   "execution_count": 3,
   "metadata": {},
   "outputs": [
    {
     "name": "stdout",
     "output_type": "stream",
     "text": [
      "2020-05-23기준\n",
      "달러 환율1,240.50원\n",
      "2020-05-23기준\n",
      "엔 환율1,154.65원\n",
      "2020-05-23기준\n",
      "바트 환율38.90원\n"
     ]
    }
   ],
   "source": [
    "import requests\n",
    "from datetime import datetime \n",
    "from bs4 import BeautifulSoup\n",
    "\n",
    "def getData(text) :\n",
    "    response =requests.get('https://search.naver.com/search.naver?ie=UTF-8&query=' + text)\n",
    "\n",
    "    html = BeautifulSoup(response.content, 'html.parser')\n",
    "\n",
    "    rate_tlt = html.find( class_='rate_tlt')\n",
    "\n",
    "    currency = rate_tlt.find('strong').get_text()\n",
    "\n",
    "    print(datetime.today().strftime('%Y-%m-%d') + '기준')\n",
    "    print(text  + currency + '원')\n",
    "\n",
    "\n",
    "getData('달러 환율')\n",
    "getData('엔 환율')\n",
    "getData('바트 환율')"
   ]
  },
  {
   "cell_type": "code",
   "execution_count": null,
   "metadata": {},
   "outputs": [],
   "source": []
  }
 ],
 "metadata": {
  "kernelspec": {
   "display_name": "Python 3",
   "language": "python",
   "name": "python3"
  },
  "language_info": {
   "codemirror_mode": {
    "name": "ipython",
    "version": 3
   },
   "file_extension": ".py",
   "mimetype": "text/x-python",
   "name": "python",
   "nbconvert_exporter": "python",
   "pygments_lexer": "ipython3",
   "version": "3.7.6"
  }
 },
 "nbformat": 4,
 "nbformat_minor": 4
}
