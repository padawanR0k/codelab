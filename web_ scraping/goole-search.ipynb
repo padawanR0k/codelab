{
 "cells": [
  {
   "cell_type": "code",
   "execution_count": null,
   "metadata": {},
   "outputs": [],
   "source": [
    "from selenium import webdriver\n",
    "import time\n",
    "from bs4 import BeautifulSoup\n",
    "\n",
    "def getResult() :\n",
    "    keyword = input('검색어를 입력하세요')\n",
    "    browser = webdriver.Chrome('./chromedriver_mac')\n",
    "    browser.get('https://www.google.com/search?q=' +  keyword )\n",
    "    html = BeautifulSoup(browser.page_source, 'html.parser')\n",
    "    links = html.select('#search div > a')\n",
    "    for link in links:\n",
    "        print(link['href'])\n",
    "        if (link.find('h3')) :\n",
    "            print(link.find('h3').get_text())\n",
    "            \n",
    "    # chapture!\n",
    "    browser.save_screenshot(\"screenshot.png\")\n",
    "\n",
    "getResult()"
   ]
  },
  {
   "cell_type": "code",
   "execution_count": null,
   "metadata": {},
   "outputs": [],
   "source": []
  }
 ],
 "metadata": {
  "kernelspec": {
   "display_name": "Python 3",
   "language": "python",
   "name": "python3"
  },
  "language_info": {
   "codemirror_mode": {
    "name": "ipython",
    "version": 3
   },
   "file_extension": ".py",
   "mimetype": "text/x-python",
   "name": "python",
   "nbconvert_exporter": "python",
   "pygments_lexer": "ipython3",
   "version": "3.7.6"
  }
 },
 "nbformat": 4,
 "nbformat_minor": 4
}
