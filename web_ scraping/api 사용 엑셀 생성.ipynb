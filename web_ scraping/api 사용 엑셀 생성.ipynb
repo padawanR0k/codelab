{
 "cells": [
  {
   "cell_type": "code",
   "execution_count": 44,
   "metadata": {},
   "outputs": [
    {
     "name": "stdout",
     "output_type": "stream",
     "text": [
      "0 127.423084873712 37.0789561558879\n",
      "\n",
      "경기 안성시 죽산면 죽산리 343-1\n",
      "1 127.23084873712 37.0789561558879\n",
      "\n",
      "경기 안성시 고삼면 신창리 산 83\n",
      "2 127.3084873712 37.0789561558879\n",
      "\n",
      "경기 안성시 보개면 남풍리 943\n",
      "3 127.873712 37.0789561558879\n",
      "\n",
      "충북 충주시 중앙탑면 장천리 1137\n",
      "4 126.423084873712 37.558879\n",
      "결과없ㅇ므\n",
      "Null\n",
      "5 127.423084873712 37.089561558879\n",
      "\n",
      "경기 안성시 죽산면 죽산리 산 19\n",
      "6 127.423084873712 37.61123\n",
      "\n",
      "경기 양평군 서종면 정배리 384-11\n",
      "7 127.423084873712 37.0761558879\n",
      "\n",
      "경기 안성시 죽산면 죽산리 439-2\n",
      "8 126.02384873712 37.0789561558879\n",
      "결과없ㅇ므\n",
      "Null\n",
      "9 126.994873712 36.0789561558879\n",
      "\n",
      "전북 익산시 낭산면 삼담리 1489-8\n",
      "done.\n"
     ]
    }
   ],
   "source": [
    "import requests\n",
    "from datetime import datetime \n",
    "from bs4 import BeautifulSoup\n",
    "import pandas\n",
    "\n",
    "#     data = pandas.DataFrame()\n",
    "#     data['좌표 x'] = title_texts;\n",
    "#     data['좌표 y'] = day_texts;\n",
    "#     data['주소'] = day_texts;\n",
    "\n",
    "def getAddress(x, y) :\n",
    "    url = 'https://dapi.kakao.com/v2/local/geo/coord2address.json'\n",
    "    params = {\n",
    "        'x': x,\n",
    "        'y': y,\n",
    "        'input_coord': 'WGS84'\n",
    "    }\n",
    "    headers = {\n",
    "        'Authorization': 'KakaoAK 55886709bd4552960ed1615e7b73e7a7'\n",
    "    }\n",
    "\n",
    "    response =requests.get(url, params, headers = headers)\n",
    "    res = response.json()\n",
    "    addr = ''\n",
    "    if len(res['documents']) != 0 :\n",
    "        addr = res['documents'][0]['address']['address_name']\n",
    "        print ()\n",
    "    else :\n",
    "        addr = 'Null'\n",
    "        print('결과없ㅇ므')\n",
    "\n",
    "    return addr\n",
    "\n",
    "\n",
    "file = pandas.read_excel('coords.xlsx')\n",
    "coordArray = [];\n",
    "\n",
    "for index, x in enumerate(file['x']) :\n",
    "    y = file['y'][index];\n",
    "    print(index, x, y)\n",
    "    addr = getAddress(x, y)\n",
    "    print(addr)\n",
    "    coordArray.append(addr)\n",
    "\n",
    "file['주소'] = coordArray\n",
    "file.to_excel('coords.xlsx')\n",
    "\n",
    "\n",
    "print('done.')"
   ]
  },
  {
   "cell_type": "code",
   "execution_count": null,
   "metadata": {},
   "outputs": [],
   "source": []
  },
  {
   "cell_type": "code",
   "execution_count": null,
   "metadata": {},
   "outputs": [],
   "source": []
  }
 ],
 "metadata": {
  "kernelspec": {
   "display_name": "Python 3",
   "language": "python",
   "name": "python3"
  },
  "language_info": {
   "codemirror_mode": {
    "name": "ipython",
    "version": 3
   },
   "file_extension": ".py",
   "mimetype": "text/x-python",
   "name": "python",
   "nbconvert_exporter": "python",
   "pygments_lexer": "ipython3",
   "version": "3.7.6"
  }
 },
 "nbformat": 4,
 "nbformat_minor": 4
}
